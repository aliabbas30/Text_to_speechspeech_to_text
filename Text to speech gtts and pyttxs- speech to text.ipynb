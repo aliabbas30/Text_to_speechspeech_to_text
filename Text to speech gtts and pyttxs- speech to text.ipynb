{
 "cells": [
  {
   "cell_type": "markdown",
   "id": "e83f73c1",
   "metadata": {},
   "source": [
    "## Google Text To Speech API"
   ]
  },
  {
   "cell_type": "code",
   "execution_count": 3,
   "id": "522ae046",
   "metadata": {},
   "outputs": [],
   "source": [
    "## install the module\n",
    "# !pip install gTTS"
   ]
  },
  {
   "cell_type": "code",
   "execution_count": 8,
   "id": "38925381",
   "metadata": {},
   "outputs": [
    {
     "data": {
      "text/plain": [
       "0"
      ]
     },
     "execution_count": 8,
     "metadata": {},
     "output_type": "execute_result"
    }
   ],
   "source": [
    "from gtts import gTTS\n",
    "import os\n",
    "text = 'Welcome to my github repository. It contains all the repositories you need to learn'\n",
    "\n",
    "# initialize the module and convert text to speech \n",
    "text_to_speech = gTTS(text = text, lang = 'en', slow = True)\n",
    "\n",
    "# saving the file \n",
    "text_to_speech.save('test.mp3')\n",
    "\n",
    "## play the audio \n",
    "os.system('test.mp3')"
   ]
  },
  {
   "cell_type": "markdown",
   "id": "4b6e14ee",
   "metadata": {},
   "source": [
    "## Pyttsx - Offline"
   ]
  },
  {
   "cell_type": "code",
   "execution_count": 15,
   "id": "c49944c5",
   "metadata": {},
   "outputs": [],
   "source": [
    "# !pip install pyttsx3"
   ]
  },
  {
   "cell_type": "code",
   "execution_count": 27,
   "id": "802e7ca9",
   "metadata": {},
   "outputs": [
    {
     "name": "stdout",
     "output_type": "stream",
     "text": [
      "[<pyttsx3.voice.Voice object at 0x0000024ADFF1A6E0>, <pyttsx3.voice.Voice object at 0x0000024ADFF1ACE0>]\n"
     ]
    }
   ],
   "source": [
    "import pyttsx3\n",
    "text = 'Welcome to my github repository. It contains all the repositories you need to learn'\n",
    "# initialize the module\n",
    "text_to_speech = pyttsx3.init()\n",
    "\n",
    "# Adjust the speed\n",
    "text_to_speech.setProperty('rate',200)\n",
    "## change the voice \n",
    "voices = text_to_speech.getProperty('voices')\n",
    "print(voices)\n",
    "text_to_speech.setProperty('voice',voices[1].id) ## 0 for male and 1 for female\n",
    "\n",
    "## text to speech\n",
    "text_to_speech.say(text)\n",
    "text_to_speech.runAndWait()\n",
    "\n",
    "# to save the file \n",
    "# text_to_speech.save_to_file(text, 'test.mp3')"
   ]
  },
  {
   "cell_type": "markdown",
   "id": "4508a8d5",
   "metadata": {},
   "source": [
    "## Speech Recognition"
   ]
  },
  {
   "cell_type": "code",
   "execution_count": 35,
   "id": "2989594a",
   "metadata": {},
   "outputs": [],
   "source": [
    "# # ## install the module \n",
    "# # !pip install speechrecognition\n",
    "# !pip install pyAudio"
   ]
  },
  {
   "cell_type": "code",
   "execution_count": 30,
   "id": "da563ddd",
   "metadata": {},
   "outputs": [],
   "source": [
    "##import the module\n",
    "import speech_recognition as sr"
   ]
  },
  {
   "cell_type": "code",
   "execution_count": 31,
   "id": "3d7fc90f",
   "metadata": {},
   "outputs": [],
   "source": [
    "## initialize\n",
    "r = sr.Recognizer()"
   ]
  },
  {
   "cell_type": "markdown",
   "id": "d581c250",
   "metadata": {},
   "source": [
    "## covert speech to text in real time"
   ]
  },
  {
   "cell_type": "code",
   "execution_count": 1,
   "id": "6f7e6b2c",
   "metadata": {},
   "outputs": [],
   "source": [
    "while True:\n",
    "    with sr.Microphone() as source:\n",
    "        ## clear background noise\n",
    "        r.adjust_for_ambient_noise(source, duration = 0.3)\n",
    "        \n",
    "        print('Speak Now')\n",
    "        ##capture the audio now\n",
    "        audio = r.listen(source)\n",
    "        try:\n",
    "            text = r.recognize_google(audio)\n",
    "            print('Speaker', text)\n",
    "            if text == 'quit':\n",
    "                break\n",
    "        except:\n",
    "            print('Please say again!!!!!')"
   ]
  },
  {
   "cell_type": "markdown",
   "id": "f6d22aca",
   "metadata": {},
   "source": [
    "## Convert audio to text"
   ]
  },
  {
   "cell_type": "code",
   "execution_count": 38,
   "id": "1606e3b5",
   "metadata": {},
   "outputs": [
    {
     "name": "stdout",
     "output_type": "stream",
     "text": [
      "Listening to audio\n",
      "Audio welcome to speech recognition\n"
     ]
    }
   ],
   "source": [
    "with sr.AudioFile('C:/Users/Raffiudin/Downloads/test.wav') as source:\n",
    "    print('Listening to audio')\n",
    "    ##capture the audio now\n",
    "    audio = r.listen(source)\n",
    "    try:\n",
    "        text = r.recognize_google(audio)\n",
    "        print('Audio', text)\n",
    "    except:\n",
    "        print('Error')"
   ]
  },
  {
   "cell_type": "code",
   "execution_count": null,
   "id": "284d0cee",
   "metadata": {},
   "outputs": [],
   "source": []
  }
 ],
 "metadata": {
  "kernelspec": {
   "display_name": "Python 3 (ipykernel)",
   "language": "python",
   "name": "python3"
  },
  "language_info": {
   "codemirror_mode": {
    "name": "ipython",
    "version": 3
   },
   "file_extension": ".py",
   "mimetype": "text/x-python",
   "name": "python",
   "nbconvert_exporter": "python",
   "pygments_lexer": "ipython3",
   "version": "3.10.9"
  }
 },
 "nbformat": 4,
 "nbformat_minor": 5
}
